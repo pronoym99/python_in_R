{
 "cells": [
  {
   "cell_type": "code",
   "execution_count": 49,
   "id": "1cec09e6",
   "metadata": {},
   "outputs": [],
   "source": [
    "import pandas as pd\n",
    "import numpy as np\n",
    "import os\n",
    "from pyreadr import read_r"
   ]
  },
  {
   "cell_type": "code",
   "execution_count": 50,
   "id": "412ab4fb",
   "metadata": {},
   "outputs": [],
   "source": [
    "dir_list = [\n",
    "    'bagru1',\n",
    "    'bagru2',\n",
    "    'jobner',\n",
    "    'dand',\n",
    "    'sawarda'\n",
    "]"
   ]
  },
  {
   "cell_type": "code",
   "execution_count": 51,
   "id": "51034551",
   "metadata": {},
   "outputs": [],
   "source": [
    "month_list = [\n",
    "    'oct_fuel.csv',\n",
    "    'nov_fuel.csv',\n",
    "    'dec_fuel.csv',\n",
    "    'jan_fuel.csv',\n",
    "    'feb_fuel.csv',\n",
    "    'feb2_fuel.csv'\n",
    "]"
   ]
  },
  {
   "cell_type": "code",
   "execution_count": 52,
   "id": "8394d2f7",
   "metadata": {},
   "outputs": [],
   "source": [
    "df_list = []"
   ]
  },
  {
   "cell_type": "code",
   "execution_count": 53,
   "id": "e1b0c019",
   "metadata": {},
   "outputs": [],
   "source": [
    "for directory in dir_list:\n",
    "    for file in month_list:\n",
    "        df = pd.read_csv(f\"{directory}/{file}\")\n",
    "        df_list.append(df)"
   ]
  },
  {
   "cell_type": "code",
   "execution_count": 54,
   "id": "8ad80923",
   "metadata": {},
   "outputs": [
    {
     "data": {
      "text/plain": [
       "30"
      ]
     },
     "execution_count": 54,
     "metadata": {},
     "output_type": "execute_result"
    }
   ],
   "source": [
    "len(df_list)"
   ]
  },
  {
   "cell_type": "code",
   "execution_count": 55,
   "id": "02542d0b",
   "metadata": {},
   "outputs": [],
   "source": [
    "out = pd.concat(df_list)"
   ]
  },
  {
   "cell_type": "code",
   "execution_count": 56,
   "id": "ce3ee64b",
   "metadata": {},
   "outputs": [
    {
     "data": {
      "text/html": [
       "<div>\n",
       "<style scoped>\n",
       "    .dataframe tbody tr th:only-of-type {\n",
       "        vertical-align: middle;\n",
       "    }\n",
       "\n",
       "    .dataframe tbody tr th {\n",
       "        vertical-align: top;\n",
       "    }\n",
       "\n",
       "    .dataframe thead th {\n",
       "        text-align: right;\n",
       "    }\n",
       "</style>\n",
       "<table border=\"1\" class=\"dataframe\">\n",
       "  <thead>\n",
       "    <tr style=\"text-align: right;\">\n",
       "      <th></th>\n",
       "      <th>site</th>\n",
       "      <th>ts</th>\n",
       "      <th>rV</th>\n",
       "      <th>aV</th>\n",
       "    </tr>\n",
       "  </thead>\n",
       "  <tbody>\n",
       "    <tr>\n",
       "      <th>0</th>\n",
       "      <td>Bagru1</td>\n",
       "      <td>2021-09-30T18:30:09Z</td>\n",
       "      <td>54.2</td>\n",
       "      <td>NaN</td>\n",
       "    </tr>\n",
       "    <tr>\n",
       "      <th>1</th>\n",
       "      <td>Bagru1</td>\n",
       "      <td>2021-09-30T18:30:39Z</td>\n",
       "      <td>54.2</td>\n",
       "      <td>NaN</td>\n",
       "    </tr>\n",
       "    <tr>\n",
       "      <th>2</th>\n",
       "      <td>Bagru1</td>\n",
       "      <td>2021-09-30T18:31:09Z</td>\n",
       "      <td>54.2</td>\n",
       "      <td>NaN</td>\n",
       "    </tr>\n",
       "    <tr>\n",
       "      <th>3</th>\n",
       "      <td>Bagru1</td>\n",
       "      <td>2021-09-30T18:31:39Z</td>\n",
       "      <td>54.2</td>\n",
       "      <td>NaN</td>\n",
       "    </tr>\n",
       "    <tr>\n",
       "      <th>4</th>\n",
       "      <td>Bagru1</td>\n",
       "      <td>2021-09-30T18:32:09Z</td>\n",
       "      <td>54.2</td>\n",
       "      <td>NaN</td>\n",
       "    </tr>\n",
       "    <tr>\n",
       "      <th>...</th>\n",
       "      <td>...</td>\n",
       "      <td>...</td>\n",
       "      <td>...</td>\n",
       "      <td>...</td>\n",
       "    </tr>\n",
       "    <tr>\n",
       "      <th>3964</th>\n",
       "      <td>Sawarda</td>\n",
       "      <td>2022-02-28T18:28:13Z</td>\n",
       "      <td>28.9</td>\n",
       "      <td>NaN</td>\n",
       "    </tr>\n",
       "    <tr>\n",
       "      <th>3965</th>\n",
       "      <td>Sawarda</td>\n",
       "      <td>2022-02-28T18:28:43Z</td>\n",
       "      <td>28.9</td>\n",
       "      <td>NaN</td>\n",
       "    </tr>\n",
       "    <tr>\n",
       "      <th>3966</th>\n",
       "      <td>Sawarda</td>\n",
       "      <td>2022-02-28T18:29:13Z</td>\n",
       "      <td>28.9</td>\n",
       "      <td>NaN</td>\n",
       "    </tr>\n",
       "    <tr>\n",
       "      <th>3967</th>\n",
       "      <td>Sawarda</td>\n",
       "      <td>2022-02-28T18:29:13Z</td>\n",
       "      <td>28.9</td>\n",
       "      <td>NaN</td>\n",
       "    </tr>\n",
       "    <tr>\n",
       "      <th>3968</th>\n",
       "      <td>Sawarda</td>\n",
       "      <td>2022-02-28T18:29:43Z</td>\n",
       "      <td>28.9</td>\n",
       "      <td>NaN</td>\n",
       "    </tr>\n",
       "  </tbody>\n",
       "</table>\n",
       "<p>2356948 rows × 4 columns</p>\n",
       "</div>"
      ],
      "text/plain": [
       "         site                    ts    rV  aV\n",
       "0      Bagru1  2021-09-30T18:30:09Z  54.2 NaN\n",
       "1      Bagru1  2021-09-30T18:30:39Z  54.2 NaN\n",
       "2      Bagru1  2021-09-30T18:31:09Z  54.2 NaN\n",
       "3      Bagru1  2021-09-30T18:31:39Z  54.2 NaN\n",
       "4      Bagru1  2021-09-30T18:32:09Z  54.2 NaN\n",
       "...       ...                   ...   ...  ..\n",
       "3964  Sawarda  2022-02-28T18:28:13Z  28.9 NaN\n",
       "3965  Sawarda  2022-02-28T18:28:43Z  28.9 NaN\n",
       "3966  Sawarda  2022-02-28T18:29:13Z  28.9 NaN\n",
       "3967  Sawarda  2022-02-28T18:29:13Z  28.9 NaN\n",
       "3968  Sawarda  2022-02-28T18:29:43Z  28.9 NaN\n",
       "\n",
       "[2356948 rows x 4 columns]"
      ]
     },
     "execution_count": 56,
     "metadata": {},
     "output_type": "execute_result"
    }
   ],
   "source": [
    "out"
   ]
  },
  {
   "cell_type": "code",
   "execution_count": 57,
   "id": "0542c9de",
   "metadata": {},
   "outputs": [],
   "source": [
    "from datetime import date, timedelta\n",
    "\n",
    "date_list = []\n",
    "start = date(2021, 10, 1)\n",
    "end = date(2022, 2, 28)\n",
    "\n",
    "d = start\n",
    "while d<=end:\n",
    "    date_list.append(d)\n",
    "    d+=timedelta(days=1)"
   ]
  },
  {
   "cell_type": "code",
   "execution_count": 58,
   "id": "963bbc7e",
   "metadata": {},
   "outputs": [
    {
     "name": "stdout",
     "output_type": "stream",
     "text": [
      "2021-10-01 2022-02-28\n"
     ]
    }
   ],
   "source": [
    "print(date_list[0], date_list[-1])"
   ]
  },
  {
   "cell_type": "code",
   "execution_count": 59,
   "id": "4052dde6",
   "metadata": {},
   "outputs": [],
   "source": [
    "out.ts = pd.to_datetime(out.ts)"
   ]
  },
  {
   "cell_type": "code",
   "execution_count": 60,
   "id": "8996b351",
   "metadata": {},
   "outputs": [],
   "source": [
    "import pytz\n",
    "\n",
    "IST = pytz.timezone(\"Asia/Kolkata\")"
   ]
  },
  {
   "cell_type": "code",
   "execution_count": 61,
   "id": "40ff6c44",
   "metadata": {},
   "outputs": [],
   "source": [
    "out.ts = out.ts.apply(lambda x: x.astimezone(IST))"
   ]
  },
  {
   "cell_type": "code",
   "execution_count": 62,
   "id": "556cd2f9",
   "metadata": {},
   "outputs": [
    {
     "data": {
      "text/html": [
       "<div>\n",
       "<style scoped>\n",
       "    .dataframe tbody tr th:only-of-type {\n",
       "        vertical-align: middle;\n",
       "    }\n",
       "\n",
       "    .dataframe tbody tr th {\n",
       "        vertical-align: top;\n",
       "    }\n",
       "\n",
       "    .dataframe thead th {\n",
       "        text-align: right;\n",
       "    }\n",
       "</style>\n",
       "<table border=\"1\" class=\"dataframe\">\n",
       "  <thead>\n",
       "    <tr style=\"text-align: right;\">\n",
       "      <th></th>\n",
       "      <th>site</th>\n",
       "      <th>ts</th>\n",
       "      <th>rV</th>\n",
       "      <th>aV</th>\n",
       "    </tr>\n",
       "  </thead>\n",
       "  <tbody>\n",
       "    <tr>\n",
       "      <th>0</th>\n",
       "      <td>Bagru1</td>\n",
       "      <td>2021-10-01 00:00:09+05:30</td>\n",
       "      <td>54.2</td>\n",
       "      <td>NaN</td>\n",
       "    </tr>\n",
       "    <tr>\n",
       "      <th>1</th>\n",
       "      <td>Bagru1</td>\n",
       "      <td>2021-10-01 00:00:39+05:30</td>\n",
       "      <td>54.2</td>\n",
       "      <td>NaN</td>\n",
       "    </tr>\n",
       "    <tr>\n",
       "      <th>2</th>\n",
       "      <td>Bagru1</td>\n",
       "      <td>2021-10-01 00:01:09+05:30</td>\n",
       "      <td>54.2</td>\n",
       "      <td>NaN</td>\n",
       "    </tr>\n",
       "    <tr>\n",
       "      <th>3</th>\n",
       "      <td>Bagru1</td>\n",
       "      <td>2021-10-01 00:01:39+05:30</td>\n",
       "      <td>54.2</td>\n",
       "      <td>NaN</td>\n",
       "    </tr>\n",
       "    <tr>\n",
       "      <th>4</th>\n",
       "      <td>Bagru1</td>\n",
       "      <td>2021-10-01 00:02:09+05:30</td>\n",
       "      <td>54.2</td>\n",
       "      <td>NaN</td>\n",
       "    </tr>\n",
       "    <tr>\n",
       "      <th>...</th>\n",
       "      <td>...</td>\n",
       "      <td>...</td>\n",
       "      <td>...</td>\n",
       "      <td>...</td>\n",
       "    </tr>\n",
       "    <tr>\n",
       "      <th>3964</th>\n",
       "      <td>Sawarda</td>\n",
       "      <td>2022-02-28 23:58:13+05:30</td>\n",
       "      <td>28.9</td>\n",
       "      <td>NaN</td>\n",
       "    </tr>\n",
       "    <tr>\n",
       "      <th>3965</th>\n",
       "      <td>Sawarda</td>\n",
       "      <td>2022-02-28 23:58:43+05:30</td>\n",
       "      <td>28.9</td>\n",
       "      <td>NaN</td>\n",
       "    </tr>\n",
       "    <tr>\n",
       "      <th>3966</th>\n",
       "      <td>Sawarda</td>\n",
       "      <td>2022-02-28 23:59:13+05:30</td>\n",
       "      <td>28.9</td>\n",
       "      <td>NaN</td>\n",
       "    </tr>\n",
       "    <tr>\n",
       "      <th>3967</th>\n",
       "      <td>Sawarda</td>\n",
       "      <td>2022-02-28 23:59:13+05:30</td>\n",
       "      <td>28.9</td>\n",
       "      <td>NaN</td>\n",
       "    </tr>\n",
       "    <tr>\n",
       "      <th>3968</th>\n",
       "      <td>Sawarda</td>\n",
       "      <td>2022-02-28 23:59:43+05:30</td>\n",
       "      <td>28.9</td>\n",
       "      <td>NaN</td>\n",
       "    </tr>\n",
       "  </tbody>\n",
       "</table>\n",
       "<p>2356948 rows × 4 columns</p>\n",
       "</div>"
      ],
      "text/plain": [
       "         site                        ts    rV  aV\n",
       "0      Bagru1 2021-10-01 00:00:09+05:30  54.2 NaN\n",
       "1      Bagru1 2021-10-01 00:00:39+05:30  54.2 NaN\n",
       "2      Bagru1 2021-10-01 00:01:09+05:30  54.2 NaN\n",
       "3      Bagru1 2021-10-01 00:01:39+05:30  54.2 NaN\n",
       "4      Bagru1 2021-10-01 00:02:09+05:30  54.2 NaN\n",
       "...       ...                       ...   ...  ..\n",
       "3964  Sawarda 2022-02-28 23:58:13+05:30  28.9 NaN\n",
       "3965  Sawarda 2022-02-28 23:58:43+05:30  28.9 NaN\n",
       "3966  Sawarda 2022-02-28 23:59:13+05:30  28.9 NaN\n",
       "3967  Sawarda 2022-02-28 23:59:13+05:30  28.9 NaN\n",
       "3968  Sawarda 2022-02-28 23:59:43+05:30  28.9 NaN\n",
       "\n",
       "[2356948 rows x 4 columns]"
      ]
     },
     "execution_count": 62,
     "metadata": {},
     "output_type": "execute_result"
    }
   ],
   "source": [
    "out"
   ]
  },
  {
   "cell_type": "code",
   "execution_count": 63,
   "id": "f0de1ff3",
   "metadata": {},
   "outputs": [],
   "source": [
    "out['date'] = out.ts.dt.date.values"
   ]
  },
  {
   "cell_type": "code",
   "execution_count": 64,
   "id": "5bbf259e",
   "metadata": {},
   "outputs": [
    {
     "name": "stdout",
     "output_type": "stream",
     "text": [
      "0 days 00:05:00\n"
     ]
    },
    {
     "name": "stderr",
     "output_type": "stream",
     "text": [
      "100%|████████████████████████████████████████████████████████████████████████████████| 151/151 [01:20<00:00,  1.87it/s]\n",
      "100%|████████████████████████████████████████████████████████████████████████████████| 151/151 [01:17<00:00,  1.96it/s]\n",
      "100%|████████████████████████████████████████████████████████████████████████████████| 151/151 [01:09<00:00,  2.19it/s]\n",
      "100%|████████████████████████████████████████████████████████████████████████████████| 151/151 [01:18<00:00,  1.92it/s]\n",
      "100%|████████████████████████████████████████████████████████████████████████████████| 151/151 [01:13<00:00,  2.07it/s]\n"
     ]
    }
   ],
   "source": [
    "from tqdm import tqdm\n",
    "from datetime import datetime, time\n",
    "\n",
    "missing_hrs_list = []\n",
    "site_list = []\n",
    "\n",
    "de = pd.Timedelta(\"5 minutes\")\n",
    "print(de)\n",
    "\n",
    "for site in dir_list:\n",
    "    for d in tqdm(date_list):\n",
    "        time_stamps = []\n",
    "        start_time = IST.localize(datetime.combine(d, time(0, 0, 0)))\n",
    "        end_time = IST.localize(datetime.combine(d, time(23, 59, 59)))\n",
    "        \n",
    "        missing_hrs = 0\n",
    "        \n",
    "        tmp = out[(out['site']==site.title()) & (out['date']==d)].reset_index(drop=True)\n",
    "        for i, row in tmp.iterrows():\n",
    "            # checking for initial boundary data miss\n",
    "            if i == 0:\n",
    "              cons_diff = abs(tmp.loc[i, f'ts'] - start_time)\n",
    "                \n",
    "              if cons_diff > de:\n",
    "                time_stamps.append((start_time, row[f'ts']))\n",
    "                missing_hrs += cons_diff.total_seconds()/3600\n",
    "            # checking for intermediate data miss\n",
    "            elif i < (len(tmp)-1):\n",
    "              cons_diff = abs(tmp.loc[i+1, f'ts'] - tmp.loc[i, f'ts'])\n",
    "              if cons_diff > de:\n",
    "                time_stamps.append((row[f'ts'], tmp.loc[i+1, f'ts']))\n",
    "                missing_hrs += cons_diff.total_seconds()/3600\n",
    "            # checking for final boundary data miss\n",
    "            else:\n",
    "              cons_diff = abs(end_time - tmp.loc[i, f'ts'])\n",
    "              if cons_diff > de:\n",
    "                time_stamps.append((row[f'ts'], end_time))\n",
    "                missing_hrs += cons_diff.total_seconds()/3600\n",
    "            \n",
    "        missing_hrs_list.append(missing_hrs)\n",
    "        site_list.append(site.title())"
   ]
  },
  {
   "cell_type": "code",
   "execution_count": 65,
   "id": "ead38fdb",
   "metadata": {},
   "outputs": [
    {
     "data": {
      "text/plain": [
       "755"
      ]
     },
     "execution_count": 65,
     "metadata": {},
     "output_type": "execute_result"
    }
   ],
   "source": [
    "len(site_list)"
   ]
  },
  {
   "cell_type": "code",
   "execution_count": 66,
   "id": "5cc3e2c3",
   "metadata": {},
   "outputs": [],
   "source": [
    "res_df = pd.DataFrame({\n",
    "    'site': site_list,\n",
    "    'date': date_list*5,\n",
    "    'missing_hrs': missing_hrs_list\n",
    "})"
   ]
  },
  {
   "cell_type": "code",
   "execution_count": 67,
   "id": "681c10e8",
   "metadata": {},
   "outputs": [
    {
     "data": {
      "text/html": [
       "<div>\n",
       "<style scoped>\n",
       "    .dataframe tbody tr th:only-of-type {\n",
       "        vertical-align: middle;\n",
       "    }\n",
       "\n",
       "    .dataframe tbody tr th {\n",
       "        vertical-align: top;\n",
       "    }\n",
       "\n",
       "    .dataframe thead th {\n",
       "        text-align: right;\n",
       "    }\n",
       "</style>\n",
       "<table border=\"1\" class=\"dataframe\">\n",
       "  <thead>\n",
       "    <tr style=\"text-align: right;\">\n",
       "      <th></th>\n",
       "      <th>site</th>\n",
       "      <th>date</th>\n",
       "      <th>missing_hrs</th>\n",
       "    </tr>\n",
       "  </thead>\n",
       "  <tbody>\n",
       "    <tr>\n",
       "      <th>0</th>\n",
       "      <td>Bagru1</td>\n",
       "      <td>2021-10-01</td>\n",
       "      <td>0.0</td>\n",
       "    </tr>\n",
       "    <tr>\n",
       "      <th>1</th>\n",
       "      <td>Bagru1</td>\n",
       "      <td>2021-10-02</td>\n",
       "      <td>0.0</td>\n",
       "    </tr>\n",
       "    <tr>\n",
       "      <th>2</th>\n",
       "      <td>Bagru1</td>\n",
       "      <td>2021-10-03</td>\n",
       "      <td>0.0</td>\n",
       "    </tr>\n",
       "    <tr>\n",
       "      <th>3</th>\n",
       "      <td>Bagru1</td>\n",
       "      <td>2021-10-04</td>\n",
       "      <td>0.0</td>\n",
       "    </tr>\n",
       "    <tr>\n",
       "      <th>4</th>\n",
       "      <td>Bagru1</td>\n",
       "      <td>2021-10-05</td>\n",
       "      <td>0.0</td>\n",
       "    </tr>\n",
       "    <tr>\n",
       "      <th>...</th>\n",
       "      <td>...</td>\n",
       "      <td>...</td>\n",
       "      <td>...</td>\n",
       "    </tr>\n",
       "    <tr>\n",
       "      <th>750</th>\n",
       "      <td>Sawarda</td>\n",
       "      <td>2022-02-24</td>\n",
       "      <td>0.0</td>\n",
       "    </tr>\n",
       "    <tr>\n",
       "      <th>751</th>\n",
       "      <td>Sawarda</td>\n",
       "      <td>2022-02-25</td>\n",
       "      <td>0.0</td>\n",
       "    </tr>\n",
       "    <tr>\n",
       "      <th>752</th>\n",
       "      <td>Sawarda</td>\n",
       "      <td>2022-02-26</td>\n",
       "      <td>0.0</td>\n",
       "    </tr>\n",
       "    <tr>\n",
       "      <th>753</th>\n",
       "      <td>Sawarda</td>\n",
       "      <td>2022-02-27</td>\n",
       "      <td>0.0</td>\n",
       "    </tr>\n",
       "    <tr>\n",
       "      <th>754</th>\n",
       "      <td>Sawarda</td>\n",
       "      <td>2022-02-28</td>\n",
       "      <td>0.0</td>\n",
       "    </tr>\n",
       "  </tbody>\n",
       "</table>\n",
       "<p>755 rows × 3 columns</p>\n",
       "</div>"
      ],
      "text/plain": [
       "        site        date  missing_hrs\n",
       "0     Bagru1  2021-10-01          0.0\n",
       "1     Bagru1  2021-10-02          0.0\n",
       "2     Bagru1  2021-10-03          0.0\n",
       "3     Bagru1  2021-10-04          0.0\n",
       "4     Bagru1  2021-10-05          0.0\n",
       "..       ...         ...          ...\n",
       "750  Sawarda  2022-02-24          0.0\n",
       "751  Sawarda  2022-02-25          0.0\n",
       "752  Sawarda  2022-02-26          0.0\n",
       "753  Sawarda  2022-02-27          0.0\n",
       "754  Sawarda  2022-02-28          0.0\n",
       "\n",
       "[755 rows x 3 columns]"
      ]
     },
     "execution_count": 67,
     "metadata": {},
     "output_type": "execute_result"
    }
   ],
   "source": [
    "res_df"
   ]
  },
  {
   "cell_type": "code",
   "execution_count": 68,
   "id": "5f0f4467",
   "metadata": {},
   "outputs": [],
   "source": [
    "res_df.to_csv(\"missing_fuel_data.csv\", index=False)"
   ]
  },
  {
   "cell_type": "code",
   "execution_count": null,
   "id": "a8ff0ffa",
   "metadata": {},
   "outputs": [],
   "source": []
  }
 ],
 "metadata": {
  "kernelspec": {
   "display_name": "Python 3 (ipykernel)",
   "language": "python",
   "name": "python3"
  },
  "language_info": {
   "codemirror_mode": {
    "name": "ipython",
    "version": 3
   },
   "file_extension": ".py",
   "mimetype": "text/x-python",
   "name": "python",
   "nbconvert_exporter": "python",
   "pygments_lexer": "ipython3",
   "version": "3.8.6"
  }
 },
 "nbformat": 4,
 "nbformat_minor": 5
}
